{
 "cells": [
  {
   "cell_type": "markdown",
   "metadata": {},
   "source": [
    "# <font color='Red'>Basic two-phase compositional model</font>"
   ]
  },
  {
   "cell_type": "markdown",
   "metadata": {},
   "source": [
    "First we are going to install open-darts (only need to run it once):"
   ]
  },
  {
   "cell_type": "code",
   "execution_count": 54,
   "metadata": {},
   "outputs": [
    {
     "name": "stdout",
     "output_type": "stream",
     "text": [
      "Requirement already satisfied: open-darts in c:\\users\\dvoskov\\anaconda3\\lib\\site-packages (1.0.0)\n",
      "Requirement already satisfied: scipy in c:\\users\\dvoskov\\anaconda3\\lib\\site-packages (from open-darts) (1.7.1)\n",
      "Requirement already satisfied: iapws in c:\\users\\dvoskov\\anaconda3\\lib\\site-packages (from open-darts) (1.5.3)\n",
      "Requirement already satisfied: gmsh in c:\\users\\dvoskov\\anaconda3\\lib\\site-packages (from open-darts) (4.10.5)\n",
      "Requirement already satisfied: pyevtk in c:\\users\\dvoskov\\anaconda3\\lib\\site-packages (from open-darts) (1.6.0)\n",
      "Requirement already satisfied: matplotlib in c:\\users\\dvoskov\\anaconda3\\lib\\site-packages (from open-darts) (3.4.3)\n",
      "Requirement already satisfied: numpy in c:\\users\\dvoskov\\anaconda3\\lib\\site-packages (from open-darts) (1.20.3)\n",
      "Requirement already satisfied: numba in c:\\users\\dvoskov\\anaconda3\\lib\\site-packages (from open-darts) (0.54.1)\n",
      "Requirement already satisfied: pandas in c:\\users\\dvoskov\\anaconda3\\lib\\site-packages (from open-darts) (1.3.4)\n",
      "Requirement already satisfied: meshio in c:\\users\\dvoskov\\anaconda3\\lib\\site-packages (from open-darts) (5.3.4)\n",
      "Requirement already satisfied: pillow>=6.2.0 in c:\\users\\dvoskov\\anaconda3\\lib\\site-packages (from matplotlib->open-darts) (8.4.0)\n",
      "Requirement already satisfied: cycler>=0.10 in c:\\users\\dvoskov\\anaconda3\\lib\\site-packages (from matplotlib->open-darts) (0.10.0)\n",
      "Requirement already satisfied: python-dateutil>=2.7 in c:\\users\\dvoskov\\anaconda3\\lib\\site-packages (from matplotlib->open-darts) (2.8.2)\n",
      "Requirement already satisfied: kiwisolver>=1.0.1 in c:\\users\\dvoskov\\anaconda3\\lib\\site-packages (from matplotlib->open-darts) (1.3.1)\n",
      "Requirement already satisfied: pyparsing>=2.2.1 in c:\\users\\dvoskov\\anaconda3\\lib\\site-packages (from matplotlib->open-darts) (3.0.4)\n",
      "Requirement already satisfied: rich in c:\\users\\dvoskov\\anaconda3\\lib\\site-packages (from meshio->open-darts) (12.2.0)\n",
      "Requirement already satisfied: setuptools in c:\\users\\dvoskov\\anaconda3\\lib\\site-packages (from numba->open-darts) (58.0.4)\n",
      "Requirement already satisfied: llvmlite<0.38,>=0.37.0rc1 in c:\\users\\dvoskov\\anaconda3\\lib\\site-packages (from numba->open-darts) (0.37.0)\n",
      "Requirement already satisfied: pytz>=2017.3 in c:\\users\\dvoskov\\anaconda3\\lib\\site-packages (from pandas->open-darts) (2021.3)\n",
      "Requirement already satisfied: six in c:\\users\\dvoskov\\anaconda3\\lib\\site-packages (from cycler>=0.10->matplotlib->open-darts) (1.16.0)\n",
      "Requirement already satisfied: pygments<3.0.0,>=2.6.0 in c:\\users\\dvoskov\\anaconda3\\lib\\site-packages (from rich->meshio->open-darts) (2.10.0)\n",
      "Requirement already satisfied: commonmark<0.10.0,>=0.9.0 in c:\\users\\dvoskov\\anaconda3\\lib\\site-packages (from rich->meshio->open-darts) (0.9.1)\n",
      "Note: you may need to restart the kernel to use updated packages.\n"
     ]
    },
    {
     "name": "stderr",
     "output_type": "stream",
     "text": [
      "\n",
      "[notice] A new release of pip is available: 23.0 -> 23.1.2\n",
      "[notice] To update, run: python.exe -m pip install --upgrade pip\n"
     ]
    }
   ],
   "source": [
    "pip install open-darts"
   ]
  },
  {
   "cell_type": "markdown",
   "metadata": {},
   "source": [
    "## <font color='blue'>Introduction</font>\n",
    "\n",
    "#### In the first case study, we cover the basic structures and procedures to run simulation with DARTS. \n",
    "#### DARTS contains a main module engine: \n",
    "* <font color='red'>engines</font>  \n",
    "    \n",
    "#### This module is programmed in C++ and exposed to python with compiled packages (libraries) named as\n",
    "* <font color='red'>engines.pyd</font>\n",
    "  \n",
    "#### The module engines.pyd provides the run-simulation needed functionalities, like\n",
    "* reservoir (mesh) initialization\n",
    "* well settings\n",
    "* interpolation operation\n",
    "* jacobian assembly\n",
    "* linear and nonlinear iteration\n",
    "\n",
    "#### The module engines.pyd can be found in the folder <font color='red'>'darts'</font>.\n",
    "\n",
    "## <font color='blue'>The objectives for the first exercise</font>\n",
    "1. Be familiar with the basic procedures to run a simulation\n",
    "2. Exercise on several simulation parameters including timestep controls and mesh "
   ]
  },
  {
   "cell_type": "markdown",
   "metadata": {},
   "source": [
    "## 1D Model can be divided into following parts:\n",
    "<img style=\"float: left;\" src=\"slides/Slide4.PNG\" width=\"60%\">"
   ]
  },
  {
   "cell_type": "markdown",
   "metadata": {},
   "source": [
    "## <font color='blue'>Let's start !</font>\n",
    "### Step 1. We need to import <font color='red'>engines</font> and nessesary physical properties into the workspace, just like the import of commonly-used modules such as numpy etc."
   ]
  },
  {
   "cell_type": "code",
   "execution_count": 55,
   "metadata": {},
   "outputs": [],
   "source": [
    "'''Import all important packages from DARTS installation'''\n",
    "from darts.engines import *\n",
    "from darts.physics.super.physics import Compositional\n",
    "from darts.physics.super.property_container import PropertyContainer\n",
    "from darts.physics.properties.basic import ConstFunc, PhaseRelPerm\n",
    "from darts.physics.properties.density import DensityBasic\n",
    "from darts.physics.properties.flash import ConstantK\n",
    "\n",
    "import numpy as np\n",
    "import matplotlib.pyplot as plt"
   ]
  },
  {
   "cell_type": "markdown",
   "metadata": {},
   "source": [
    "### Step 2. We need to specify the time recorder, which could help to make sure about the performance of the simulator in different parts. Timers can be created in hierachical order."
   ]
  },
  {
   "cell_type": "markdown",
   "metadata": {},
   "source": [
    "<img style=\"float: left;\" src=\"slides/Slide6.PNG\" width=\"60%\">"
   ]
  },
  {
   "cell_type": "code",
   "execution_count": 56,
   "metadata": {},
   "outputs": [],
   "source": [
    "'''Activate main timers for simulation'''\n",
    "def activate_timer():\n",
    "    # Call class constructor and Build timer_node object\n",
    "    timer = timer_node()\n",
    "\n",
    "    # Call object members; there are 2 types of members:\n",
    "    ## <1>Function member:\n",
    "    timer.start()\n",
    "    ## <2>Data member:\n",
    "    timer.node[\"simulation\"] = timer_node()\n",
    "    timer.node[\"initialization\"] = timer_node()\n",
    "\n",
    "    # Start initialization\n",
    "    timer.node[\"initialization\"].start()\n",
    "    \n",
    "    return timer"
   ]
  },
  {
   "cell_type": "markdown",
   "metadata": {},
   "source": [
    "### Step 3. Simulation parameters setting. Here we specify the simulation parameters, e.g.:\n",
    "\n",
    "* timestep strategy (first_ts, max_ts, mult_ts)\n",
    "* convergence criteria (tolerance of nonlinear iteration and other parameters controlling iterations)"
   ]
  },
  {
   "cell_type": "markdown",
   "metadata": {},
   "source": [
    "<img style=\"float: left;\" src=\"slides/Slide7.PNG\" width=\"60%\">"
   ]
  },
  {
   "cell_type": "code",
   "execution_count": 57,
   "metadata": {},
   "outputs": [],
   "source": [
    "'''Define main parameters for simulation by overwriting default parameters'''\n",
    "def define_params(max_ts=1):\n",
    "    # Build a sim_params object by calling constructor\n",
    "    params = sim_params()\n",
    "\n",
    "    # Adjust time step settings\n",
    "    # First time step (time unit: day)\n",
    "    params.first_ts = 0.01\n",
    "\n",
    "    # Time step multiplier\n",
    "    params.mult_ts = 4\n",
    "\n",
    "    # Maximum time step\n",
    "    params.max_ts = max_ts\n",
    "\n",
    "    # Newton tolerance\n",
    "    params.tolerance_newton = 1e-10\n",
    "    \n",
    "    return params"
   ]
  },
  {
   "cell_type": "markdown",
   "metadata": {},
   "source": [
    "### Step 4. Mesh initialization\n",
    "<img style=\"float: left;\" src=\"slides/Slide8.PNG\" width=\"60%\">"
   ]
  },
  {
   "cell_type": "markdown",
   "metadata": {},
   "source": [
    "<img style=\"float: left;\" src=\"slides/Slide9.PNG\" width=\"60%\">"
   ]
  },
  {
   "cell_type": "code",
   "execution_count": 58,
   "metadata": {},
   "outputs": [],
   "source": [
    "'''Mesh initialization for 1D reservoir with constant transmissibility'''\n",
    "def init_mesh(nb):\n",
    "    # Create mesh object by calling the class constructor\n",
    "    mesh = conn_mesh()\n",
    "\n",
    "    # Create connection list for 1D reservoir \n",
    "    block_m = np.arange(nb - 1, dtype=np.int32)\n",
    "    block_p = block_m + 1\n",
    "\n",
    "    # Set constant transmissbility\n",
    "    permeability = 2\n",
    "    tranD = np.ones(nb - 1) * 1e-3 * nb \n",
    "    tran = tranD * permeability\n",
    "\n",
    "    # Initialize mesh with connection list\n",
    "    mesh.init(index_vector(block_m), index_vector(block_p),\n",
    "              value_vector(tran), value_vector(tranD))\n",
    "\n",
    "    # Complete mesh initialization\n",
    "    mesh.reverse_and_sort()\n",
    "    \n",
    "    return mesh"
   ]
  },
  {
   "cell_type": "markdown",
   "metadata": {},
   "source": [
    "### Step 5. Define reservoir properties\n",
    "* connecting numpy arrays to the mesh\n",
    "* fill porosity, depth, volume, conduction and heat capacity\n",
    "* imitate boundary conditions with large volumes"
   ]
  },
  {
   "cell_type": "markdown",
   "metadata": {},
   "source": [
    "<img style=\"float: left;\" src=\"slides/Slide10.PNG\" width=\"60%\">"
   ]
  },
  {
   "cell_type": "code",
   "execution_count": 59,
   "metadata": {},
   "outputs": [],
   "source": [
    "'''Define basic properties for the reservoir'''\n",
    "def define_reservoir(nb):\n",
    "    # Create numpy arrays wrapped around mesh data (no copying)\n",
    "    volume = np.array(mesh.volume, copy=False)\n",
    "    porosity = np.array(mesh.poro, copy=False)\n",
    "    depth = np.array(mesh.depth, copy=False)\n",
    "\n",
    "    # Assign volume, porosity and depth values\n",
    "    volume.fill(3000 / nb)\n",
    "    porosity.fill(0.2)\n",
    "    depth.fill(1000)\n",
    "\n",
    "    # Make first and last blocks large (source/sink)\n",
    "    volume[0] = 1e10\n",
    "    volume[nb-1] = 1e10"
   ]
  },
  {
   "cell_type": "markdown",
   "metadata": {},
   "source": [
    "### Step 6. Boundary and initial conditions\n",
    "* initial reservoir conditions\n",
    "* pressure source and sink\n",
    "* translation from temperature to enthalpy"
   ]
  },
  {
   "cell_type": "markdown",
   "metadata": {},
   "source": [
    "<img style=\"float: left;\" src=\"slides/Slide11.PNG\" width=\"60%\">"
   ]
  },
  {
   "cell_type": "code",
   "execution_count": 60,
   "metadata": {},
   "outputs": [],
   "source": [
    "'''Mimic boundary conditions for the reservoir'''\n",
    "def define_initial_conditions(nb):\n",
    "    # Create numpy wrappers for initial solution\n",
    "    pressure = np.array(mesh.pressure, copy=False) \n",
    "    fraction = np.array(mesh.composition, copy=False)\n",
    "\n",
    "    # Assign initial pressure values\n",
    "    pressure.fill(200)\n",
    "    pressure[0] = 250\n",
    "    pressure[nb-1] = 150\n",
    "\n",
    "    # Assign molar fraction values\n",
    "    fraction.fill(0.1)\n",
    "    fraction[0] = 0.9"
   ]
  },
  {
   "cell_type": "markdown",
   "metadata": {},
   "source": [
    "### Step 7. Physics initialization\n",
    "* translate temperature range to enthalpy\n",
    "* initialize physical ranges"
   ]
  },
  {
   "cell_type": "markdown",
   "metadata": {},
   "source": [
    "<img style=\"float: left;\" src=\"slides/Slide12.PNG\" width=\"60%\">"
   ]
  },
  {
   "cell_type": "code",
   "execution_count": 61,
   "metadata": {},
   "outputs": [],
   "source": [
    "'''Create physics from predefined properties from DARTS package'''\n",
    "def define_physics():\n",
    "    # basic physical parameters\n",
    "    zero = 1e-8\n",
    "    components = ['CO2', 'H2O']\n",
    "    phases = ['gas', 'oil']\n",
    "    Mw = [44.01, 18.015]\n",
    "    \n",
    "    # activate property container\n",
    "    property_container = PropertyContainer(phases_name=phases,\n",
    "                                 components_name=components,\n",
    "                                 Mw=Mw, min_z=zero/10)\n",
    "\n",
    "    # properties correlations\n",
    "    property_container.flash_ev = ConstantK(len(components), [4.0, 0.2], zero)\n",
    "    property_container.density_ev = dict([('gas', DensityBasic(compr=1e-3, dens0=200)),\n",
    "                                          ('oil', DensityBasic(compr=1e-5, dens0=600))])\n",
    "    property_container.viscosity_ev = dict([('gas', ConstFunc(0.05)),\n",
    "                                            ('oil', ConstFunc(0.5))])\n",
    "    property_container.rel_perm_ev = dict([('gas', PhaseRelPerm(\"gas\")),\n",
    "                                           ('oil', PhaseRelPerm(\"oil\"))])\n",
    "\n",
    "    # Activate physics\n",
    "    physics = Compositional(components, phases, timer, n_points=200, min_p=100, max_p=300,\n",
    "                            min_z=zero/10, max_z=1-zero/10)\n",
    "    physics.add_property_region(property_container)\n",
    "    physics.init_physics()\n",
    "\n",
    "    return physics"
   ]
  },
  {
   "cell_type": "markdown",
   "metadata": {},
   "source": [
    "### Step 8. Engine initialization and run\n",
    "<img style=\"float: left;\" src=\"slides/Slide13.PNG\" width=\"60%\">"
   ]
  },
  {
   "cell_type": "code",
   "execution_count": 62,
   "metadata": {
    "scrolled": false
   },
   "outputs": [
    {
     "name": "stdout",
     "output_type": "stream",
     "text": [
      "Total elapsed 0.788000 sec\n",
      "\tinitialization 0.013000 sec\n",
      "\tsimulation 0.775000 sec\n",
      "\t\tjacobian assembly 0.538000 sec\n",
      "\t\t\tinterpolation 0.525000 sec\n",
      "\t\t\t\tproperty interpolation 0.000000 sec\n",
      "\t\t\t\treservoir 0 interpolation 0.527000 sec\n",
      "\t\t\t\t\tbody generation 0.512000 sec\n",
      "\t\t\t\t\t\tpoint generation 0.504000 sec\n",
      "\t\t\t\twell controls interpolation 0.000000 sec\n",
      "\t\t\t\twellbore interpolation 0.000000 sec\n",
      "\t\tlinear solver setup 0.000000 sec\n",
      "\t\t\tSUPERLU 0.000000 sec\n",
      "\t\tlinear solver solve 0.038000 sec\n",
      "\t\t\tSUPERLU 0.034000 sec\n",
      "\t\tnewton update 0.000000 sec\n",
      "\t\t\tcomposition correction 0.000000 sec\n",
      "\n"
     ]
    }
   ],
   "source": [
    "# create all model parameters\n",
    "nb = 50\n",
    "timer = activate_timer()\n",
    "params = define_params(max_ts=1)\n",
    "mesh = init_mesh(nb)\n",
    "define_reservoir(nb)\n",
    "define_initial_conditions(nb)\n",
    "physics = define_physics()\n",
    "\n",
    "# Initialize engine\n",
    "physics.engine.init(mesh, ms_well_vector(),\n",
    "                    op_vector([physics.acc_flux_itor[0]]),\n",
    "                    params, timer.node[\"simulation\"])\n",
    "\n",
    "# Stop initialization timer\n",
    "timer.node[\"initialization\"].stop()\n",
    "\n",
    "# Run simulator for 500 days\n",
    "physics.engine.run(500)\n",
    "\n",
    "# Print timers (note where most of the time was spent!)\n",
    "print(timer.print(\"\", \"\"))"
   ]
  },
  {
   "cell_type": "markdown",
   "metadata": {},
   "source": [
    "### Step 9. Data processing and plots"
   ]
  },
  {
   "cell_type": "markdown",
   "metadata": {},
   "source": [
    "<img style=\"float: left;\" src=\"slides/Slide14.PNG\" width=\"60%\">"
   ]
  },
  {
   "cell_type": "code",
   "execution_count": 63,
   "metadata": {},
   "outputs": [],
   "source": [
    "# Define function to plot data profiles\n",
    "%matplotlib inline\n",
    "def plot_profile(data, name, sp, ax):\n",
    "    n = len(data)    \n",
    "    ax.plot(np.arange(n), data[0:n], '-')\n",
    "    ax.set_xlabel('Grid index')\n",
    "    ax.set_ylabel('%s' % (name))"
   ]
  },
  {
   "cell_type": "code",
   "execution_count": 64,
   "metadata": {
    "scrolled": false
   },
   "outputs": [
    {
     "data": {
      "text/plain": [
       "<Figure size 432x288 with 0 Axes>"
      ]
     },
     "metadata": {},
     "output_type": "display_data"
    },
    {
     "data": {
      "image/png": "[encoded data removed]",
      "text/plain": [
       "<Figure size 720x288 with 2 Axes>"
      ]
     },
     "metadata": {
      "needs_background": "light"
     },
     "output_type": "display_data"
    }
   ],
   "source": [
    "# Get numpy wrapper for final solution\n",
    "X = np.array(physics.engine.X, copy=False)\n",
    "\n",
    "# Prepare for plotting\n",
    "fig = plt.figure()   \n",
    "\n",
    "nc = 2\n",
    "\n",
    "fig, axes = plt.subplots(1, 2, figsize=(10, 4))\n",
    "# Plot pressure profile\n",
    "plot_profile(X[0:nc*nb:nc],'Pressure, bar', 1, axes[0])\n",
    "# Plot molar fraction profile\n",
    "plot_profile(X[1:nc*nb:nc],'Molar fraction', 2, axes[1])"
   ]
  }
 ],
 "metadata": {
  "kernelspec": {
   "display_name": "Python 3 (ipykernel)",
   "language": "python",
   "name": "python3"
  },
  "language_info": {
   "codemirror_mode": {
    "name": "ipython",
    "version": 3
   },
   "file_extension": ".py",
   "mimetype": "text/x-python",
   "name": "python",
   "nbconvert_exporter": "python",
   "pygments_lexer": "ipython3",
   "version": "3.9.7"
  }
 },
 "nbformat": 4,
 "nbformat_minor": 2
}
