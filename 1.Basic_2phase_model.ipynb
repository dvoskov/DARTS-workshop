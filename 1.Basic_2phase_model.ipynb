{
 "cells": [
  {
   "cell_type": "markdown",
   "metadata": {},
   "source": [
    "# <font color='Red'>Basic two-phase compositional model</font>"
   ]
  },
  {
   "cell_type": "markdown",
   "metadata": {},
   "source": [
    "## <font color='blue'>Introduction</font>\n",
    "\n",
    "#### In the first case study, we cover the basic structures and procedures to run simulation with DARTS. \n",
    "#### DARTS contains a main module engine: \n",
    "* <font color='red'>engines</font>  \n",
    "    \n",
    "#### This module is programmed in C++ and exposed to python with compiled packages (libraries) named as\n",
    "* <font color='red'>engines.pyd</font>\n",
    "  \n",
    "#### The module engines.pyd provides the run-simulation needed functionalities, like\n",
    "* reservoir (mesh) initialization\n",
    "* well settings\n",
    "* interpolation operation\n",
    "* jacobian assembly\n",
    "* linear and nonlinear iteration\n",
    "\n",
    "#### The module engines.pyd can be found in the folder <font color='red'>'darts'</font>.\n",
    "\n",
    "## <font color='blue'>The objectives for the first exercise</font>\n",
    "1. Be familiar with the basic procedures to run a simulation\n",
    "2. Exercise on several simulation parameters including timestep controls and mesh "
   ]
  },
  {
   "cell_type": "markdown",
   "metadata": {},
   "source": [
    "## 1D Model can be divided into following parts:\n",
    "<img style=\"float: left;\" src=\"slides/Slide4.PNG\" width=\"60%\">"
   ]
  },
  {
   "cell_type": "markdown",
   "metadata": {},
   "source": [
    "## <font color='blue'>Let's start !</font>\n",
    "### Step 1. We need to import <font color='red'>engines</font> and nessesary physical properties into the workspace, just like the import of commonly-used modules such as numpy etc."
   ]
  },
  {
   "cell_type": "code",
   "execution_count": null,
   "metadata": {},
   "outputs": [],
   "source": [
    "'''Import all important packages from DARTS installation'''\n",
    "from darts.engines import *\n",
    "from darts.models.physics_sup.property_container import property_container\n",
    "from darts.models.physics_sup.physics_comp_sup import Compositional\n",
    "from darts.models.physics_sup.properties_basic import Density, ViscosityConst, PhaseRelPerm, Flash\n",
    "\n",
    "import numpy as np\n",
    "import matplotlib.pyplot as plt"
   ]
  },
  {
   "cell_type": "markdown",
   "metadata": {},
   "source": [
    "### Step 2. We need to specify the time recorder, which could help to make sure about the performance of the simulator in different parts. Timers can be created in hierachical order."
   ]
  },
  {
   "cell_type": "markdown",
   "metadata": {},
   "source": [
    "<img style=\"float: left;\" src=\"slides/Slide6.PNG\" width=\"60%\">"
   ]
  },
  {
   "cell_type": "code",
   "execution_count": null,
   "metadata": {},
   "outputs": [],
   "source": [
    "'''Activate main timers for simulation'''\n",
    "def activate_timer():\n",
    "    # Call class constructor and Build timer_node object\n",
    "    timer = timer_node()\n",
    "\n",
    "    # Call object members; there are 2 types of members:\n",
    "    ## <1>Function member:\n",
    "    timer.start()\n",
    "    ## <2>Data member:\n",
    "    timer.node[\"simulation\"] = timer_node()\n",
    "    timer.node[\"initialization\"] = timer_node()\n",
    "\n",
    "    # Start initialization\n",
    "    timer.node[\"initialization\"].start()\n",
    "    \n",
    "    return timer"
   ]
  },
  {
   "cell_type": "markdown",
   "metadata": {},
   "source": [
    "### Step 3. Simulation parameters setting. Here we specify the simulation parameters, e.g.:\n",
    "\n",
    "* timestep strategy (first_ts, max_ts, mult_ts)\n",
    "* convergence criteria (tolerance of nonlinear iteration and other parameters controlling iterations)"
   ]
  },
  {
   "cell_type": "markdown",
   "metadata": {},
   "source": [
    "<img style=\"float: left;\" src=\"slides/Slide7.PNG\" width=\"60%\">"
   ]
  },
  {
   "cell_type": "code",
   "execution_count": null,
   "metadata": {},
   "outputs": [],
   "source": [
    "'''Define main parameters for simulation by overwriting default parameters'''\n",
    "def define_params(max_ts=1):\n",
    "    # Build a sim_params object by calling constructor\n",
    "    params = sim_params()\n",
    "\n",
    "    # Adjust time step settings\n",
    "    # First time step (time unit: day)\n",
    "    params.first_ts = 0.01\n",
    "\n",
    "    # Time step multiplier\n",
    "    params.mult_ts = 4\n",
    "\n",
    "    # Maximum time step\n",
    "    params.max_ts = max_ts\n",
    "\n",
    "    # Newton tolerance\n",
    "    params.tolerance_newton = 1e-10\n",
    "    \n",
    "    return params"
   ]
  },
  {
   "cell_type": "markdown",
   "metadata": {},
   "source": [
    "### Step 4. Mesh initialization\n",
    "<img style=\"float: left;\" src=\"slides/Slide8.PNG\" width=\"60%\">"
   ]
  },
  {
   "cell_type": "markdown",
   "metadata": {},
   "source": [
    "<img style=\"float: left;\" src=\"slides/Slide9.PNG\" width=\"60%\">"
   ]
  },
  {
   "cell_type": "code",
   "execution_count": null,
   "metadata": {},
   "outputs": [],
   "source": [
    "'''Mesh initialization for 1D reservoir with constant transmissibility'''\n",
    "def init_mesh(nb):\n",
    "    # Create mesh object by calling the class constructor\n",
    "    mesh = conn_mesh()\n",
    "\n",
    "    # Create connection list for 1D reservoir \n",
    "    block_m = np.arange(nb - 1, dtype=np.int32)\n",
    "    block_p = block_m + 1\n",
    "\n",
    "    # Set constant transmissbility\n",
    "    permeability = 2\n",
    "    tranD = np.ones(nb - 1) * 1e-3 * nb \n",
    "    tran = tranD * permeability\n",
    "\n",
    "    # Initialize mesh with connection list\n",
    "    mesh.init(index_vector(block_m), index_vector(block_p),\n",
    "              value_vector(tran), value_vector(tranD))\n",
    "\n",
    "    # Complete mesh initialization\n",
    "    mesh.reverse_and_sort()\n",
    "    \n",
    "    return mesh"
   ]
  },
  {
   "cell_type": "markdown",
   "metadata": {},
   "source": [
    "### Step 5. Define reservoir properties\n",
    "* connecting numpy arrays to the mesh\n",
    "* fill porosity, depth, volume, conduction and heat capacity\n",
    "* imitate boundary conditions with large volumes"
   ]
  },
  {
   "cell_type": "markdown",
   "metadata": {},
   "source": [
    "<img style=\"float: left;\" src=\"slides/Slide10.PNG\" width=\"60%\">"
   ]
  },
  {
   "cell_type": "code",
   "execution_count": null,
   "metadata": {},
   "outputs": [],
   "source": [
    "'''Define basic properties for the reservoir'''\n",
    "def define_reservoir(nb):\n",
    "    # Create numpy arrays wrapped around mesh data (no copying)\n",
    "    volume = np.array(mesh.volume, copy=False)\n",
    "    porosity = np.array(mesh.poro, copy=False)\n",
    "    depth = np.array(mesh.depth, copy=False)\n",
    "\n",
    "    # Assign volume, porosity and depth values\n",
    "    volume.fill(3000 / nb)\n",
    "    porosity.fill(0.2)\n",
    "    depth.fill(1000)\n",
    "\n",
    "    # Make first and last blocks large (source/sink)\n",
    "    volume[0] = 1e10\n",
    "    volume[nb-1] = 1e10"
   ]
  },
  {
   "cell_type": "markdown",
   "metadata": {},
   "source": [
    "### Step 6. Boundary and initial conditions\n",
    "* initial reservoir conditions\n",
    "* pressure source and sink\n",
    "* translation from temperature to enthalpy"
   ]
  },
  {
   "cell_type": "markdown",
   "metadata": {},
   "source": [
    "<img style=\"float: left;\" src=\"slides/Slide11.PNG\" width=\"60%\">"
   ]
  },
  {
   "cell_type": "code",
   "execution_count": null,
   "metadata": {},
   "outputs": [],
   "source": [
    "'''Mimic boundary conditions for the reservoir'''\n",
    "def define_initial_conditions(nb):\n",
    "    # Create numpy wrappers for initial solution\n",
    "    pressure = np.array(mesh.pressure, copy=False) \n",
    "    fraction = np.array(mesh.composition, copy=False)\n",
    "\n",
    "    # Assign initial pressure values\n",
    "    pressure.fill(200)\n",
    "    pressure[0] = 250\n",
    "    pressure[nb-1] = 150\n",
    "\n",
    "    # Assign molar fraction values\n",
    "    fraction.fill(0.1)\n",
    "    fraction[0] = 0.9"
   ]
  },
  {
   "cell_type": "markdown",
   "metadata": {},
   "source": [
    "### Step 7. Physics initialization\n",
    "* translate temperature range to enthalpy\n",
    "* initialize physical ranges"
   ]
  },
  {
   "cell_type": "markdown",
   "metadata": {},
   "source": [
    "<img style=\"float: left;\" src=\"slides/Slide12.PNG\" width=\"60%\">"
   ]
  },
  {
   "cell_type": "code",
   "execution_count": null,
   "metadata": {},
   "outputs": [],
   "source": [
    "'''Create physics from predefined properties from DARTS package'''\n",
    "def define_physics():\n",
    "    # basic physical parameters\n",
    "    zero = 1e-8\n",
    "    components_name = ['CO2', 'H2O']\n",
    "    Mw = [44.01, 18.015]\n",
    "    \n",
    "    # activate property container\n",
    "    property = property_container(phases_name=['gas', 'oil'],\n",
    "                                  components_name=components_name,\n",
    "                                  Mw=Mw, min_z=zero/10)\n",
    "\n",
    "    # properties correlations\n",
    "    property.flash_ev = Flash(components_name, [4.0, 0.2], zero)\n",
    "    property.density_ev = dict([('gas', Density(compr=1e-3, dens0=200)),\n",
    "                                ('oil', Density(compr=1e-5, dens0=600))])\n",
    "    property.viscosity_ev = dict([('gas', ViscosityConst(0.05)),\n",
    "                                  ('oil', ViscosityConst(0.5))])\n",
    "    property.rel_perm_ev = dict([('gas', PhaseRelPerm(\"gas\")),\n",
    "                                 ('oil', PhaseRelPerm(\"oil\"))])\n",
    "\n",
    "    # Activate physics\n",
    "    physics = Compositional(property, timer, n_points=200, min_p=100, max_p=300,\n",
    "                            min_z=zero/10, max_z=1-zero/10)\n",
    "\n",
    "    return physics"
   ]
  },
  {
   "cell_type": "markdown",
   "metadata": {},
   "source": [
    "### Step 8. Engine initialization and run\n",
    "<img style=\"float: left;\" src=\"slides/Slide13.PNG\" width=\"60%\">"
   ]
  },
  {
   "cell_type": "code",
   "execution_count": null,
   "metadata": {
    "scrolled": false
   },
   "outputs": [],
   "source": [
    "# create all model parameters\n",
    "nb = 50\n",
    "timer = activate_timer()\n",
    "params = define_params(max_ts=1)\n",
    "mesh = init_mesh(nb)\n",
    "define_reservoir(nb)\n",
    "define_initial_conditions(nb)\n",
    "physics = define_physics()\n",
    "\n",
    "# Initialize engine\n",
    "physics.engine.init(mesh, ms_well_vector(),\n",
    "                    op_vector([physics.acc_flux_itor[0]]),\n",
    "                    params, timer.node[\"simulation\"])\n",
    "\n",
    "# Stop initialization timer\n",
    "timer.node[\"initialization\"].stop()\n",
    "\n",
    "# Run simulator for 500 days\n",
    "physics.engine.run(500)\n",
    "\n",
    "# Print timers (note where most of the time was spent!)\n",
    "print(timer.print(\"\", \"\"))"
   ]
  },
  {
   "cell_type": "markdown",
   "metadata": {},
   "source": [
    "### Step 9. Data processing and plots"
   ]
  },
  {
   "cell_type": "markdown",
   "metadata": {},
   "source": [
    "<img style=\"float: left;\" src=\"slides/Slide14.PNG\" width=\"60%\">"
   ]
  },
  {
   "cell_type": "code",
   "execution_count": null,
   "metadata": {},
   "outputs": [],
   "source": [
    "# Define function to plot data profiles\n",
    "%matplotlib inline\n",
    "def plot_profile(data, name, sp, ax):\n",
    "    n = len(data)    \n",
    "    ax.plot(np.arange(n), data[0:n], '-')\n",
    "    ax.set_xlabel('Grid index')\n",
    "    ax.set_ylabel('%s' % (name))"
   ]
  },
  {
   "cell_type": "code",
   "execution_count": null,
   "metadata": {
    "scrolled": false
   },
   "outputs": [],
   "source": [
    "# Get numpy wrapper for final solution\n",
    "X = np.array(physics.engine.X, copy=False)\n",
    "\n",
    "# Prepare for plotting\n",
    "fig = plt.figure()   \n",
    "\n",
    "nc = 2\n",
    "\n",
    "fig, axes = plt.subplots(1, 2, figsize=(10, 4))\n",
    "# Plot pressure profile\n",
    "plot_profile(X[0:nc*nb:nc],'Pressure, bar', 1, axes[0])\n",
    "# Plot molar fraction profile\n",
    "plot_profile(X[1:nc*nb:nc],'Molar fraction', 2, axes[1])"
   ]
  }
 ],
 "metadata": {
  "kernelspec": {
   "display_name": "Python 3 (ipykernel)",
   "language": "python",
   "name": "python3"
  },
  "language_info": {
   "codemirror_mode": {
    "name": "ipython",
    "version": 3
   },
   "file_extension": ".py",
   "mimetype": "text/x-python",
   "name": "python",
   "nbconvert_exporter": "python",
   "pygments_lexer": "ipython3",
   "version": "3.9.12"
  }
 },
 "nbformat": 4,
 "nbformat_minor": 2
}
