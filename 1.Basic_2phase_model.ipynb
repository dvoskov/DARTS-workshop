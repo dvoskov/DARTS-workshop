{
 "cells": [
  {
   "cell_type": "markdown",
   "metadata": {},
   "source": [
    "# <font color='Red'>Basic two-phase compositional model</font>"
   ]
  },
  {
   "cell_type": "markdown",
   "metadata": {},
   "source": [
    "First we are going to install open-darts (only need to run it once):"
   ]
  },
  {
   "cell_type": "code",
   "execution_count": 44,
   "metadata": {},
   "outputs": [],
   "source": [
    "pip install open-darts"
   ]
  },
  {
   "cell_type": "markdown",
   "metadata": {},
   "source": [
    "## <font color='blue'>Introduction</font>\n",
    "\n",
    "#### In the first case study, we cover the basic structures and procedures to run simulation with DARTS. \n",
    "#### DARTS contains a main module engine: \n",
    "* <font color='red'>engines</font>  \n",
    "    \n",
    "#### This module is programmed in C++ and exposed to python with compiled packages (libraries) named as\n",
    "* <font color='red'>engines.pyd</font>\n",
    "  \n",
    "#### The module engines.pyd provides the run-simulation needed functionalities, like\n",
    "* reservoir (mesh) initialization\n",
    "* well settings\n",
    "* interpolation operation\n",
    "* jacobian assembly\n",
    "* linear and nonlinear iteration\n",
    "\n",
    "#### The module engines.pyd can be found in the folder <font color='red'>'darts'</font>.\n",
    "\n",
    "## <font color='blue'>The objectives for the first exercise</font>\n",
    "1. Be familiar with the basic procedures to run a simulation\n",
    "2. Exercise on several simulation parameters including timestep controls and mesh "
   ]
  },
  {
   "cell_type": "markdown",
   "metadata": {},
   "source": [
    "## 1D Model can be divided into following parts:\n",
    "<img style=\"float: left;\" src=\"slides/Slide4.PNG\" width=\"60%\">"
   ]
  },
  {
   "cell_type": "markdown",
   "metadata": {},
   "source": [
    "## <font color='blue'>Let's start !</font>\n",
    "### Step 1. We need to import <font color='red'>engines</font> and nessesary physical properties into the workspace, just like the import of commonly-used modules such as numpy etc."
   ]
  },
  {
   "cell_type": "code",
   "execution_count": 45,
   "metadata": {},
   "outputs": [],
   "source": [
    "'''Import all important packages from DARTS installation'''\n",
    "from darts.engines import sim_params\n",
    "from darts.physics.super.physics import Compositional\n",
    "from darts.physics.super.property_container import PropertyContainer\n",
    "from darts.physics.properties.basic import ConstFunc, PhaseRelPerm\n",
    "from darts.physics.properties.density import DensityBasic\n",
    "from darts.physics.properties.flash import ConstantK\n",
    "\n",
    "import numpy as np\n",
    "import matplotlib.pyplot as plt"
   ]
  },
  {
   "cell_type": "markdown",
   "metadata": {},
   "source": [
    "### Step 2. We need to specify the time recorder, which could help to make sure about the performance of the simulator in different parts. Timers can be created in hierachical order."
   ]
  },
  {
   "cell_type": "markdown",
   "metadata": {},
   "source": [
    "<img style=\"float: left;\" src=\"slides/Slide6.PNG\" width=\"60%\">"
   ]
  },
  {
   "cell_type": "code",
   "execution_count": 46,
   "metadata": {},
   "outputs": [],
   "source": [
    "'''Activate main timers for simulation'''\n",
    "def activate_timer():\n",
    "    # Call class constructor and Build timer_node object\n",
    "    timer = timer_node()\n",
    "\n",
    "    # Call object members; there are 2 types of members:\n",
    "    ## <1>Function member:\n",
    "    timer.start()\n",
    "    ## <2>Data member:\n",
    "    timer.node[\"simulation\"] = timer_node()\n",
    "    timer.node[\"initialization\"] = timer_node()\n",
    "\n",
    "    # Start initialization\n",
    "    timer.node[\"initialization\"].start()\n",
    "    \n",
    "    return timer"
   ]
  },
  {
   "cell_type": "markdown",
   "metadata": {},
   "source": [
    "### Step 3. Simulation parameters setting. Here we specify the simulation parameters, e.g.:\n",
    "\n",
    "* timestep strategy (first_ts, max_ts, mult_ts)\n",
    "* convergence criteria (tolerance of nonlinear iteration and other parameters controlling iterations)"
   ]
  },
  {
   "cell_type": "markdown",
   "metadata": {},
   "source": [
    "<img style=\"float: left;\" src=\"slides/Slide7.PNG\" width=\"60%\">"
   ]
  },
  {
   "cell_type": "code",
   "execution_count": 47,
   "metadata": {},
   "outputs": [],
   "source": [
    "'''Define main parameters for simulation by overwriting default parameters'''\n",
    "def define_params(max_ts=1):\n",
    "    # Build a sim_params object by calling constructor\n",
    "    params = sim_params()\n",
    "\n",
    "    # Adjust time step settings\n",
    "    # First time step (time unit: day)\n",
    "    params.first_ts = 0.01\n",
    "\n",
    "    # Time step multiplier\n",
    "    params.mult_ts = 4\n",
    "\n",
    "    # Maximum time step\n",
    "    params.max_ts = max_ts\n",
    "\n",
    "    # Newton tolerance\n",
    "    params.tolerance_newton = 1e-10\n",
    "    \n",
    "    return params"
   ]
  },
  {
   "cell_type": "markdown",
   "metadata": {},
   "source": [
    "### Step 4. Mesh initialization\n",
    "<img style=\"float: left;\" src=\"slides/Slide8.PNG\" width=\"60%\">"
   ]
  },
  {
   "cell_type": "markdown",
   "metadata": {},
   "source": [
    "<img style=\"float: left;\" src=\"slides/Slide9.PNG\" width=\"60%\">"
   ]
  },
  {
   "cell_type": "code",
   "execution_count": 48,
   "metadata": {},
   "outputs": [],
   "source": [
    "'''Mesh initialization for 1D reservoir with constant transmissibility'''\n",
    "def init_mesh(nb):\n",
    "    # Create mesh object by calling the class constructor\n",
    "    mesh = conn_mesh()\n",
    "\n",
    "    # Create connection list for 1D reservoir \n",
    "    block_m = np.arange(nb - 1, dtype=np.int32)\n",
    "    block_p = block_m + 1\n",
    "\n",
    "    # Set constant transmissbility\n",
    "    permeability = 2\n",
    "    tranD = np.ones(nb - 1) * 1e-3 * nb \n",
    "    tran = tranD * permeability\n",
    "\n",
    "    # Initialize mesh with connection list\n",
    "    mesh.init(index_vector(block_m), index_vector(block_p),\n",
    "              value_vector(tran), value_vector(tranD))\n",
    "\n",
    "    # Complete mesh initialization\n",
    "    mesh.reverse_and_sort()\n",
    "    \n",
    "    return mesh"
   ]
  },
  {
   "cell_type": "markdown",
   "metadata": {},
   "source": [
    "### Step 5. Define reservoir properties\n",
    "* connecting numpy arrays to the mesh\n",
    "* fill porosity, depth, volume, conduction and heat capacity\n",
    "* imitate boundary conditions with large volumes"
   ]
  },
  {
   "cell_type": "markdown",
   "metadata": {},
   "source": [
    "<img style=\"float: left;\" src=\"slides/Slide10.PNG\" width=\"60%\">"
   ]
  },
  {
   "cell_type": "code",
   "execution_count": 49,
   "metadata": {},
   "outputs": [],
   "source": [
    "'''Define basic properties for the reservoir'''\n",
    "def define_reservoir(nb):\n",
    "    # Create numpy arrays wrapped around mesh data (no copying)\n",
    "    volume = np.array(mesh.volume, copy=False)\n",
    "    porosity = np.array(mesh.poro, copy=False)\n",
    "    depth = np.array(mesh.depth, copy=False)\n",
    "\n",
    "    # Assign volume, porosity and depth values\n",
    "    volume.fill(3000 / nb)\n",
    "    porosity.fill(0.2)\n",
    "    depth.fill(1000)\n",
    "\n",
    "    # Make first and last blocks large (source/sink)\n",
    "    volume[0] = 1e10\n",
    "    volume[nb-1] = 1e10"
   ]
  },
  {
   "cell_type": "markdown",
   "metadata": {},
   "source": [
    "### Step 6. Boundary and initial conditions\n",
    "* initial reservoir conditions\n",
    "* pressure source and sink\n",
    "* translation from temperature to enthalpy"
   ]
  },
  {
   "cell_type": "markdown",
   "metadata": {},
   "source": [
    "<img style=\"float: left;\" src=\"slides/Slide11.PNG\" width=\"60%\">"
   ]
  },
  {
   "cell_type": "code",
   "execution_count": 50,
   "metadata": {},
   "outputs": [],
   "source": [
    "'''Mimic boundary conditions for the reservoir'''\n",
    "def define_initial_conditions(nb):\n",
    "    # Create numpy wrappers for initial solution\n",
    "    pressure = np.array(mesh.pressure, copy=False) \n",
    "    fraction = np.array(mesh.composition, copy=False)\n",
    "\n",
    "    # Assign initial pressure values\n",
    "    pressure.fill(200)\n",
    "    pressure[0] = 250\n",
    "    pressure[nb-1] = 150\n",
    "\n",
    "    # Assign molar fraction values\n",
    "    fraction.fill(0.1)\n",
    "    fraction[0] = 0.9"
   ]
  },
  {
   "cell_type": "markdown",
   "metadata": {},
   "source": [
    "### Step 7. Physics initialization\n",
    "* translate temperature range to enthalpy\n",
    "* initialize physical ranges"
   ]
  },
  {
   "cell_type": "markdown",
   "metadata": {},
   "source": [
    "<img style=\"float: left;\" src=\"slides/Slide12.PNG\" width=\"60%\">"
   ]
  },
  {
   "cell_type": "code",
   "execution_count": 51,
   "metadata": {},
   "outputs": [],
   "source": [
    "'''Create physics from predefined properties from DARTS package'''\n",
    "def define_physics():\n",
    "    # basic physical parameters\n",
    "    zero = 1e-8\n",
    "    components = ['CO2', 'H2O']\n",
    "    phases = ['gas', 'oil']\n",
    "    Mw = [44.01, 18.015]\n",
    "    \n",
    "    # activate property container\n",
    "    property_container = PropertyContainer(phases_name=phases,\n",
    "                                 components_name=components,\n",
    "                                 Mw=Mw, min_z=zero/10, temperature=1.)\n",
    "\n",
    "    # properties correlations\n",
    "    property_container.flash_ev = ConstantK(len(components), [4.0, 0.2], zero)\n",
    "    property_container.density_ev = dict([('gas', DensityBasic(compr=1e-3, dens0=200)),\n",
    "                                          ('oil', DensityBasic(compr=1e-5, dens0=600))])\n",
    "    property_container.viscosity_ev = dict([('gas', ConstFunc(0.05)),\n",
    "                                            ('oil', ConstFunc(0.5))])\n",
    "    property_container.rel_perm_ev = dict([('gas', PhaseRelPerm(\"gas\")),\n",
    "                                           ('oil', PhaseRelPerm(\"oil\"))])\n",
    "\n",
    "    # Activate physics\n",
    "    physics = Compositional(components, phases, timer, n_points=200, min_p=100, max_p=300,\n",
    "                            min_z=zero/10, max_z=1-zero/10)\n",
    "    physics.add_property_region(property_container)\n",
    "    physics.init_physics()\n",
    "\n",
    "    return physics"
   ]
  },
  {
   "cell_type": "markdown",
   "metadata": {},
   "source": [
    "### Step 8. Engine initialization and run\n",
    "<img style=\"float: left;\" src=\"slides/Slide13.PNG\" width=\"60%\">"
   ]
  },
  {
   "cell_type": "code",
   "execution_count": 52,
   "metadata": {
    "scrolled": false
   },
   "outputs": [
    {
     "name": "stdout",
     "output_type": "stream",
     "text": [
      "Total elapsed 1.209000 sec\n",
      "\tinitialization 0.008000 sec\n",
      "\tsimulation 1.199000 sec\n",
      "\t\tjacobian assembly 0.620000 sec\n",
      "\t\t\tinterpolation 0.507000 sec\n",
      "\t\t\t\tproperty interpolation 0.000000 sec\n",
      "\t\t\t\treservoir 0 interpolation 0.507000 sec\n",
      "\t\t\t\t\tbody generation 0.417000 sec\n",
      "\t\t\t\t\t\tpoint generation 0.414000 sec\n",
      "\t\t\t\twell controls interpolation 0.000000 sec\n",
      "\t\t\t\twellbore interpolation 0.000000 sec\n",
      "\t\tlinear solver setup 0.000000 sec\n",
      "\t\t\tSUPERLU 0.000000 sec\n",
      "\t\tlinear solver solve 0.252000 sec\n",
      "\t\t\tSUPERLU 0.222000 sec\n",
      "\t\tnewton update 0.003000 sec\n",
      "\t\t\tcomposition correction 0.000000 sec\n",
      "\n"
     ]
    }
   ],
   "source": [
    "# create all model parameters\n",
    "nb = 500\n",
    "timer = activate_timer()\n",
    "params = define_params(max_ts=1)\n",
    "mesh = init_mesh(nb)\n",
    "define_reservoir(nb)\n",
    "define_initial_conditions(nb)\n",
    "physics = define_physics()\n",
    "\n",
    "# Initialize engine\n",
    "physics.engine.init(mesh, ms_well_vector(),\n",
    "                    op_vector([physics.acc_flux_itor[0]]),\n",
    "                    params, timer.node[\"simulation\"])\n",
    "\n",
    "# Stop initialization timer\n",
    "timer.node[\"initialization\"].stop()\n",
    "\n",
    "# Run simulator for 500 days\n",
    "physics.engine.run(500)\n",
    "\n",
    "# Print timers (note where most of the time was spent!)\n",
    "print(timer.print(\"\", \"\"))"
   ]
  },
  {
   "cell_type": "markdown",
   "metadata": {},
   "source": [
    "### Step 9. Data processing and plots"
   ]
  },
  {
   "cell_type": "markdown",
   "metadata": {},
   "source": [
    "<img style=\"float: left;\" src=\"slides/Slide14.PNG\" width=\"60%\">"
   ]
  },
  {
   "cell_type": "code",
   "execution_count": 53,
   "metadata": {},
   "outputs": [],
   "source": [
    "# Define function to plot data profiles\n",
    "%matplotlib inline\n",
    "def plot_profile(data, name, sp, ax):\n",
    "    n = len(data)    \n",
    "    ax.plot(np.arange(n), data[0:n], '-')\n",
    "    ax.set_xlabel('Grid index')\n",
    "    ax.set_ylabel('%s' % (name))"
   ]
  },
  {
   "cell_type": "code",
   "execution_count": 54,
   "metadata": {
    "scrolled": false
   },
   "outputs": [
    {
     "data": {
      "text/plain": [
       "<Figure size 432x288 with 0 Axes>"
      ]
     },
     "metadata": {},
     "output_type": "display_data"
    },
    {
     "data": {
      "image/png": "[encoded data removed]",
      "text/plain": [
       "<Figure size 720x288 with 2 Axes>"
      ]
     },
     "metadata": {
      "needs_background": "light"
     },
     "output_type": "display_data"
    }
   ],
   "source": [
    "# Get numpy wrapper for final solution\n",
    "X = np.array(physics.engine.X, copy=False)\n",
    "\n",
    "# Prepare for plotting\n",
    "fig = plt.figure()   \n",
    "\n",
    "nc = 2\n",
    "\n",
    "fig, axes = plt.subplots(1, 2, figsize=(10, 4))\n",
    "# Plot pressure profile\n",
    "plot_profile(X[0:nc*nb:nc],'Pressure, bar', 1, axes[0])\n",
    "# Plot molar fraction profile\n",
    "plot_profile(X[1:nc*nb:nc],'Molar fraction', 2, axes[1])"
   ]
  }
 ],
 "metadata": {
  "kernelspec": {
   "display_name": "Python 3 (ipykernel)",
   "language": "python",
   "name": "python3"
  },
  "language_info": {
   "codemirror_mode": {
    "name": "ipython",
    "version": 3
   },
   "file_extension": ".py",
   "mimetype": "text/x-python",
   "name": "python",
   "nbconvert_exporter": "python",
   "pygments_lexer": "ipython3",
   "version": "3.9.7"
  }
 },
 "nbformat": 4,
 "nbformat_minor": 2
}
