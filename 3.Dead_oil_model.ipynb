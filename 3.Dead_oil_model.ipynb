{
 "cells": [
  {
   "cell_type": "markdown",
   "metadata": {},
   "source": [
    "## <font color='Blue'>Introduction</font>\n",
    "###  In this exercise, we run simulation in a 2D single layer two-phase model.\n",
    "* The realistic formation heterogeneity is used for permeability map. \n",
    "\n",
    "## <font color='blue'>The objectives:</font>\n",
    "1. Introduce custom <font color='red'>'Model'</font> class based on \n",
    " * Class [DartsModel](https://gitlab.com/open-darts/open-darts/-/blob/development/darts-package/darts/models/darts_model.py)  with base model capabilities\n",
    " * Class [StructReservoir](https://gitlab.com/open-darts/open-darts/-/blob/development/darts-package/darts/models/reservoirs/struct_reservoir.py) with structured reservoir\n",
    " * Class [SuperPhysics](https://gitlab.com/open-darts/open-darts/-/blob/development/darts-package/darts/models/physics_sup/physics_comp_sup.py) for basic physics where super engine is used\n",
    " * Class [PropertyContainer](https://gitlab.com/open-darts/open-darts/-/blob/development/darts-package/darts/models/physics_sup/property_container.py) for allocating property evaluator needed in the simulation\n",
    " * Class [Properties](Egg/properties_dead_oil.py) for dead oil properties in this practice, such as density, viscosity and relative permeability. It should be changed based on the investigated problem.\n",
    "2. Use run_python procedure to control run from the python script\n",
    "3. Introduce wells and time-dependent well controls\n",
    "4. Redefine physical properties and run simulation with custom-defined property.\n",
    "\n",
    "## <font color='Blue'>Let's start!</font>\n"
   ]
  },
  {
   "cell_type": "markdown",
   "metadata": {},
   "source": [
    "<img style=\"float: left;\" src=\"slides/Slide33.JPG\" width=\"60%\">"
   ]
  },
  {
   "cell_type": "code",
   "execution_count": null,
   "metadata": {},
   "outputs": [],
   "source": [
    "from darts.models.reservoirs.struct_reservoir import StructReservoir\n",
    "from darts.models.darts_model import DartsModel\n",
    "from darts.models.physics_sup.physics_comp_sup import Compositional as SuperPhysics\n",
    "from darts.models.physics_sup.property_container import *\n",
    "from Egg.properties_dead_oil import *\n",
    "from darts.tools.keyword_file_tools import load_single_keyword\n",
    "from darts.engines import redirect_darts_output\n",
    "import numpy as np\n",
    "redirect_darts_output('log.txt')"
   ]
  },
  {
   "cell_type": "markdown",
   "metadata": {},
   "source": [
    "<img style=\"float: left;\" src=\"slides/Slide34.JPG\" width=\"60%\">"
   ]
  },
  {
   "cell_type": "markdown",
   "metadata": {},
   "source": [
    "#### Brief Introduction of model inheritance\n",
    "* Here create the <font color='red'>'Model' </font>  class, which inherits from <font color='red'>DartsModel</font> (the base class).\n",
    "* It keeps all the functionalities of <font color='red'>DartsModel</font> and can also be extended to add more functionalities.\n",
    "* If a function is redefined in subclass, the function in base class with identical name will be overridden."
   ]
  },
  {
   "cell_type": "code",
   "execution_count": null,
   "metadata": {},
   "outputs": [],
   "source": [
    "class Model(DartsModel):\n",
    "    def __init__(self):\n",
    "        # call base class constructor\n",
    "        super().__init__()\n",
    "\n",
    "        # measure time spend on reading/initialization\n",
    "        self.timer.node[\"initialization\"].start()\n",
    "\n",
    "        # create reservoir\n",
    "        self.nx = 60\n",
    "        self.ny = 60\n",
    "        self.nz = 1\n",
    "        \n",
    "        self.dx = 8\n",
    "        self.dy = 8\n",
    "        self.dz = 4\n",
    "\n",
    "        self.permx = load_single_keyword('Egg/data.in','PERMX')\n",
    "        self.actnum = load_single_keyword('Egg/data.in','ACTNUM')            \n",
    "        \n",
    "        self.permy = self.permx\n",
    "        self.permz = 0.1 * self.permx\n",
    "        self.poro = 0.2\n",
    "        self.depth = 4000\n",
    "\n",
    "        # run discretization\n",
    "        self.reservoir = StructReservoir(self.timer, nx=self.nx, ny=self.ny, nz=self.nz, dx=self.dx, dy=self.dy,\n",
    "                                         dz=self.dz, permx=self.permx, permy=self.permy, permz=self.permz,\n",
    "                                         poro=self.poro, depth=self.depth,actnum=self.actnum)\n",
    "        \n",
    "        self.well_init()\n",
    "               \n",
    "        \"\"\"Physical properties\"\"\"\n",
    "        self.pvt = 'Egg/physics.in'\n",
    "        self.zero = 1e-13\n",
    "        self.property_container = model_properties(phases_name=['water', 'oil'], components_name=['w', 'o'], \n",
    "                                                   pvt=self.pvt, min_z=self.zero/10)\n",
    "\n",
    "        # Define property evaluators based on custom properties\n",
    "        self.flash_ev = []\n",
    "        self.property_container.density_ev = dict([('water', DensityWat(self.pvt)),\n",
    "                                                   ('oil', DensityOil(self.pvt))])\n",
    "        self.property_container.viscosity_ev = dict([('water', ViscoWat(self.pvt)),\n",
    "                                                     ('oil', ViscoOil(self.pvt))])\n",
    "        self.property_container.rel_perm_ev = dict([('water', WatRelPerm(self.pvt)),\n",
    "                                                    ('oil', OilRelPerm(self.pvt))])\n",
    "        self.property_container.capillary_pressure_ev = CapillarypressurePcow(self.pvt)\n",
    "\n",
    "        self.property_container.rock_compress_ev = RockCompactionEvaluator(self.pvt)\n",
    "\n",
    "        # create physics\n",
    "        self.thermal = 0\n",
    "        self.physics = SuperPhysics(self.property_container, self.timer, n_points=400, min_p=0, max_p=1000,\n",
    "                                     min_z=self.zero, max_z=1 - self.zero, thermal=self.thermal)\n",
    "\n",
    "        self.params.first_ts = 0.01\n",
    "        self.params.mult_ts = 2\n",
    "        self.params.max_ts = 10\n",
    "        self.params.tolerance_newton = 1e-2\n",
    "        self.params.tolerance_linear = 1e-4\n",
    "\n",
    "        self.inj = [0.999]\n",
    "\n",
    "        self.runtime = 100\n",
    "\n",
    "        self.timer.node[\"initialization\"].stop()\n",
    "        \n",
    "    def well_init(self):\n",
    "        well_diam = 0.2\n",
    "        well_rad = well_diam/2\n",
    "        \n",
    "        wells = np.loadtxt('Egg/wells.in')\n",
    "        for i, wcoord in enumerate(wells):            \n",
    "            if i < 8:\n",
    "                self.reservoir.add_well(\"INJ\" + str(i+1))\n",
    "            else:\n",
    "                self.reservoir.add_well(\"PRD\" + str(i+1 - 8))\n",
    "                    \n",
    "            self.reservoir.add_perforation(self.reservoir.wells[-1], int(wcoord[0]), int(wcoord[1]), 1, \n",
    "                                           well_radius=well_rad, multi_segment=False)\n",
    "            self.reservoir.inj_wells = [self.reservoir.wells[-1]]\n",
    "        \n",
    "    def set_initial_conditions(self):\n",
    "        self.physics.set_uniform_initial_conditions(self.reservoir.mesh, uniform_pressure=400,\n",
    "                                                    uniform_composition=[2e-2])\n",
    "\n",
    "    def set_boundary_conditions(self):\n",
    "        for i, w in enumerate(self.reservoir.wells):\n",
    "            if \"INJ\" in w.name:\n",
    "                w.control = self.physics.new_rate_inj(200, self.inj, 0)\n",
    "                w.constraint = self.physics.new_bhp_inj(450, self.inj)\n",
    "            else:\n",
    "                w.control = self.physics.new_bhp_prod(390)"
   ]
  },
  {
   "cell_type": "markdown",
   "metadata": {},
   "source": [
    "<img style=\"float: left;\" src=\"slides/Slide45.JPG\" width=\"60%\">"
   ]
  },
  {
   "cell_type": "markdown",
   "metadata": {},
   "source": [
    "<img style=\"float: left;\" src=\"slides/Slide46.JPG\" width=\"60%\">"
   ]
  },
  {
   "cell_type": "markdown",
   "metadata": {},
   "source": [
    "<img style=\"float: left;\" src=\"slides/Slide35.JPG\" width=\"60%\">"
   ]
  },
  {
   "cell_type": "code",
   "execution_count": null,
   "metadata": {},
   "outputs": [],
   "source": [
    "# evaluate all properties which are needed in the simulation\n",
    "class model_properties(property_container):\n",
    "    def __init__(self, phases_name, components_name, pvt, min_z=1e-11):\n",
    "        # Call base class constructor\n",
    "        self.nph = len(phases_name)\n",
    "        Mw = np.ones(self.nph)\n",
    "        super().__init__(phases_name, components_name, Mw, min_z)\n",
    "        self.x = np.zeros((self.nph, self.nc))\n",
    "        self.pvt = pvt\n",
    "        self.surf_dens = get_table_keyword(self.pvt, 'DENSITY')[0]\n",
    "        self.surf_oil_dens = self.surf_dens[0]\n",
    "        self.surf_wat_dens = self.surf_dens[1]\n",
    "\n",
    "    def evaluate(self, state):\n",
    "        \"\"\"\n",
    "        Class methods which evaluates the state operators for the element based physics\n",
    "        :param state: state variables [pres, comp_0, ..., comp_N-1]\n",
    "        :param values: values of the operators (used for storing the operator values)\n",
    "        :return: updated value for operators, stored in values\n",
    "        \"\"\"\n",
    "        # Composition vector and pressure from state:\n",
    "        vec_state_as_np = np.asarray(state)\n",
    "        pressure = vec_state_as_np[0]\n",
    "\n",
    "        zc = np.append(vec_state_as_np[1:], 1 - np.sum(vec_state_as_np[1:]))\n",
    "\n",
    "        self.clean_arrays()\n",
    "        # two-phase flash - assume water phase is always present and water component last\n",
    "        for i in range(self.nph):\n",
    "            self.x[i, i] = 1\n",
    "\n",
    "        ph = [0, 1]\n",
    "\n",
    "        for j in ph:\n",
    "            M = 0\n",
    "            # molar weight of mixture\n",
    "            for i in range(self.nc):\n",
    "                M += self.Mw[i] * self.x[j][i]\n",
    "            self.dens[j] = self.density_ev[self.phases_name[j]].evaluate(state)  # output in [kg/m3]\n",
    "            self.dens_m[j] = self.dens[j] / M\n",
    "            self.mu[j] = self.viscosity_ev[self.phases_name[j]].evaluate(state)  # output in [cp]\n",
    "\n",
    "        self.nu = zc\n",
    "        self.compute_saturation(ph)\n",
    "        \n",
    "        # when evaluate rel-perm based on the table, we only need water saturation to interpolate both phases saturation\n",
    "        for j in ph:\n",
    "            self.kr[j] = self.rel_perm_ev[self.phases_name[j]].evaluate(self.sat[0])\n",
    "            self.pc[j] = 0\n",
    "\n",
    "        return self.sat, self.x, self.dens, self.dens_m, self.mu, self.kr, self.pc, ph\n",
    "\n",
    "    def evaluate_at_cond(self, pressure, zc):\n",
    "\n",
    "        self.sat[:] = 0\n",
    "\n",
    "        state = value_vector([1, 0])\n",
    "\n",
    "        ph = [0, 1]\n",
    "        for j in ph:\n",
    "            self.dens_m[j] = self.density_ev[self.phases_name[j]].evaluate(state)\n",
    "\n",
    "        self.dens_m = [self.surf_wat_dens, self.surf_oil_dens]  # to match DO based on PVT\n",
    "\n",
    "        self.nu = zc\n",
    "        self.compute_saturation(ph)\n",
    "\n",
    "        return self.sat, self.dens_m"
   ]
  },
  {
   "cell_type": "markdown",
   "metadata": {},
   "source": [
    "<img style=\"float: left;\" src=\"slides/Slide36.JPG\" width=\"60%\">"
   ]
  },
  {
   "cell_type": "code",
   "execution_count": null,
   "metadata": {},
   "outputs": [],
   "source": [
    "m = Model()\n",
    "m.init()\n",
    "m.run_python()\n",
    "m.print_timers()"
   ]
  },
  {
   "cell_type": "markdown",
   "metadata": {},
   "source": [
    "<img style=\"float: left;\" src=\"slides/Slide37.JPG\" width=\"60%\">"
   ]
  },
  {
   "cell_type": "code",
   "execution_count": null,
   "metadata": {},
   "outputs": [],
   "source": [
    "%matplotlib inline\n",
    "import pandas as pd\n",
    "time_data = pd.DataFrame.from_dict(m.physics.engine.time_data)\n",
    "# wirte timedata to output file\n",
    "time_data.to_pickle(\"darts_time_data.pkl\")\n",
    "# write timedata to excel file\n",
    "writer = pd.ExcelWriter('time_data.xlsx')\n",
    "time_data.to_excel(writer, 'Sheet1')\n",
    "writer.save()"
   ]
  },
  {
   "cell_type": "code",
   "execution_count": null,
   "metadata": {},
   "outputs": [],
   "source": [
    "td = pd.read_pickle(\"darts_time_data.pkl\")\n",
    "from darts.tools.plot_darts import *\n",
    "plot_water_rate_darts('INJ1', time_data)\n",
    "plot_bhp_darts('INJ1', time_data)\n",
    "plot_oil_rate_darts('PRD1', time_data)\n",
    "plt.show()"
   ]
  },
  {
   "cell_type": "markdown",
   "metadata": {},
   "source": [
    "<img style=\"float: left;\" src=\"slides/Slide38.JPG\" width=\"60%\">"
   ]
  },
  {
   "cell_type": "code",
   "execution_count": null,
   "metadata": {},
   "outputs": [],
   "source": [
    "import matplotlib.pyplot as plt\n",
    "plt.figure(num=1, figsize=(12, 4))\n",
    "plt.subplot(121)\n",
    "perm = np.array(m.permx)\n",
    "plt.pcolor(perm.reshape(m.ny, m.nx))\n",
    "plt.title('perm map')\n",
    "plt.colorbar()\n",
    "\n",
    "plt.subplot(122)\n",
    "act = np.array(m.actnum)\n",
    "plt.pcolor(act.reshape(m.ny, m.nx))\n",
    "plt.title('Active cells map')\n",
    "plt.colorbar()"
   ]
  },
  {
   "cell_type": "markdown",
   "metadata": {},
   "source": [
    "### Next we process the active grid, prepare plotting and plot pressure"
   ]
  },
  {
   "cell_type": "markdown",
   "metadata": {},
   "source": [
    "<img style=\"float: left;\" src=\"slides/Slide42.JPG\" width=\"60%\">"
   ]
  },
  {
   "cell_type": "code",
   "execution_count": null,
   "metadata": {
    "scrolled": true
   },
   "outputs": [],
   "source": [
    "import matplotlib.pyplot as plt\n",
    "\n",
    "# process active grid\n",
    "X = np.array(m.physics.engine.X, copy=False)\n",
    "nb = m.nx * m.ny\n",
    "nb = np.count_nonzero(m.actnum)\n",
    "\n",
    "p = -np.ones(m.nx*m.ny)\n",
    "z = -np.ones(m.nx*m.ny)\n",
    "s = -np.ones(m.nx*m.ny)\n",
    "\n",
    "p[act>0] = X[0:2*nb:2]\n",
    "z[act>0] = X[1:2*nb:2]\n",
    "\n",
    "plt.figure(num=2, figsize=(12,4))\n",
    "plt.subplot(121)\n",
    "plt.pcolor(p.reshape(m.ny, m.nx),cmap='jet')\n",
    "plt.clim([390,max(p)])\n",
    "plt.colorbar()\n",
    "\n",
    "plt.subplot(122)\n",
    "plt.pcolor(z.reshape(m.ny, m.nx),cmap='jet')\n",
    "plt.colorbar()\n",
    "plt.clim([0,max(z)])\n"
   ]
  }
 ],
 "metadata": {
  "kernelspec": {
   "display_name": "Python 3 (ipykernel)",
   "language": "python",
   "name": "python3"
  },
  "language_info": {
   "codemirror_mode": {
    "name": "ipython",
    "version": 3
   },
   "file_extension": ".py",
   "mimetype": "text/x-python",
   "name": "python",
   "nbconvert_exporter": "python",
   "pygments_lexer": "ipython3",
   "version": "3.9.12"
  }
 },
 "nbformat": 4,
 "nbformat_minor": 2
}
