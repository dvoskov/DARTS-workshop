{
 "cells": [
  {
   "cell_type": "markdown",
   "metadata": {},
   "source": [
    "<img style=\"float: left;\" src=\"figures/Perm.png\" width=\"20%\">   \n",
    "\n",
    "# <font color='Red'> $\\;$ Reservoir model for geothermal doublet</font>"
   ]
  },
  {
   "cell_type": "markdown",
   "metadata": {},
   "source": [
    "First we are going to install open-darts (only need to run it once):"
   ]
  },
  {
   "cell_type": "code",
   "execution_count": null,
   "metadata": {},
   "outputs": [],
   "source": [
    "pip install open-darts"
   ]
  },
  {
   "cell_type": "markdown",
   "metadata": {},
   "source": [
    "## <font color='Blue'>Introduction</font>\n",
    "###  In this exercise, we run simulation in a 3D channelized reservoir.\n",
    "\n",
    "## <font color='blue'>The objectives:</font>\n",
    "1. Introduce custom <font color='red'>'Model'</font> class based on \n",
    " * Class [DartsModel](https://gitlab.com/open-darts/open-darts/-/blob/development/darts-package/darts/models/darts_model.py) with base model capabilities\n",
    " * Class [StructReservoir](https://gitlab.com/open-darts/open-darts/-/blob/development/darts-package/darts/models/reservoirs/struct_reservoir.py) with structured reservoir\n",
    " * Class [GeothermalPhysics](https://gitlab.com/open-darts/open-darts/-/blob/development/darts-package/darts/models/physics/geothermal.py) for geothermal engine is used\n",
    " * Class [PropertyContainer](https://gitlab.com/open-darts/open-darts/-/blob/development/darts-package/darts/models/physics_sup/property_container.py) for allocating property evaluator needed in the simulation\n",
    " * Class [GeothermalProperties](https://gitlab.com/open-darts/open-darts/-/blob/development/darts-package/darts/models/physics/iapws/iapws_property.py) for geothermal fluid based on IAPWS-97 Equatipn of State.\n",
    "2. Use run_python procedure to control run from the python script\n",
    "3. Introduce wells and change their location"
   ]
  },
  {
   "cell_type": "markdown",
   "metadata": {},
   "source": [
    "<img style=\"float: left;\" src=\"slides/Slide15.PNG\" width=\"60%\">"
   ]
  },
  {
   "cell_type": "markdown",
   "metadata": {},
   "source": [
    "<img style=\"float: left;\" src=\"slides/Slide16.PNG\" width=\"60%\">"
   ]
  },
  {
   "cell_type": "markdown",
   "metadata": {},
   "source": [
    "<img style=\"float: left;\" src=\"slides/Slide17.PNG\" width=\"60%\">"
   ]
  },
  {
   "cell_type": "code",
   "execution_count": null,
   "metadata": {},
   "outputs": [],
   "source": [
    "from darts.models.reservoirs.struct_reservoir import StructReservoir\n",
    "from darts.models.physics.geothermal import Geothermal\n",
    "from darts.models.darts_model import DartsModel\n",
    "from darts.models.physics.iapws.iapws_property_vec import _Backward1_T_Ph_vec\n",
    "from darts.tools.keyword_file_tools import load_single_keyword\n",
    "from darts.engines import redirect_darts_output\n",
    "import numpy as np\n",
    "redirect_darts_output('run_geothermal.log')"
   ]
  },
  {
   "cell_type": "markdown",
   "metadata": {},
   "source": [
    "## <font color='Blue'>Brief Introduction of model inheritance:</font>\n",
    "\n",
    "* Here create the <font color='red'>'Model' </font>  class, which inherits from <font color='red'>DartsModel</font> (the base class).\n",
    "* It keeps all the functionalities of <font color='red'>DartsModel</font> and can also be extended to add more functionalities.\n",
    "* If a function is redefined in subclass, the function in base class with identical name will be overridden."
   ]
  },
  {
   "cell_type": "code",
   "execution_count": null,
   "metadata": {},
   "outputs": [],
   "source": [
    "class Model(DartsModel):\n",
    "    def __init__(self, n_points=128):\n",
    "        # call base class constructor\n",
    "        super().__init__()\n",
    "        \n",
    "        self.timer.node[\"initialization\"].start()\n",
    "        \n",
    "        # parameters for the reservoir\n",
    "        (nx, ny, nz) = (60, 60, 3)\n",
    "        nb   = nx * ny * nz\n",
    "        perm = np.ones(nb) * 2000\n",
    "        #perm = load_single_keyword('perm.in', 'PERMX')\n",
    "        perm = perm[:nb]\n",
    "        \n",
    "        poro = np.ones(nb) * 0.2\n",
    "        self.dx = 30\n",
    "        self.dy = 30\n",
    "        dz   = np.ones(nb) * 30\n",
    "        #perm[:nx*ny] = 1e-5\n",
    "        #poro[:nx*ny] = 1e-5\n",
    "                \n",
    "        # discretize structured reservoir\n",
    "        self.reservoir = StructReservoir(self.timer, nx=nx, ny=ny, nz=nz, dx=self.dx, dy=self.dy, dz=dz, permx=perm,\n",
    "                                         permy=perm, permz=perm*0.1, poro=poro, depth=2000)\n",
    "        \n",
    "        # add open boundaries\n",
    "        self.reservoir.set_boundary_volume(xz_minus=1e8, xz_plus=1e8, yz_minus=1e8, yz_plus=1e8)\n",
    "                                           \n",
    "        # add well's locations\n",
    "        self.jw = [30, 30]\n",
    "        self.iw = [14, 46]\n",
    "        \n",
    "        # add well\n",
    "        self.reservoir.add_well(\"INJ\")\n",
    "        n_perf = nz        \n",
    "        # add perforations to te payzone\n",
    "        for n in range(1, n_perf):\n",
    "            self.reservoir.add_perforation(well=self.reservoir.wells[-1], i=self.iw[0], j=self.jw[0], k=n+1, \n",
    "                                           well_radius=0.16)\n",
    "\n",
    "        # add well\n",
    "        self.reservoir.add_well(\"PRD\")\n",
    "        # add perforations to te payzone        \n",
    "        for n in range(1, n_perf):\n",
    "            self.reservoir.add_perforation(self.reservoir.wells[-1], self.iw[1], self.jw[1], n+1, 0.16)\n",
    "\n",
    "        # rock heat capacity and rock thermal conduction\n",
    "        hcap = np.array(self.reservoir.mesh.heat_capacity, copy=False)\n",
    "        rcond = np.array(self.reservoir.mesh.rock_cond, copy=False)\n",
    "        hcap.fill(2200)\n",
    "        rcond.fill(500)\n",
    "\n",
    "        # create pre-defined physics for geothermal\n",
    "        self.physics = Geothermal(self.timer, n_points, 1, 351, 1000, 10000, cache=False)\n",
    "\n",
    "        # timestep parameters\n",
    "        self.params.first_ts = 1e-3\n",
    "        self.params.mult_ts  = 2\n",
    "        self.params.max_ts   = 365\n",
    "\n",
    "        # nonlinear and linear solver tolerance\n",
    "        self.params.tolerance_newton = 1e-2\n",
    "\n",
    "        self.timer.node[\"initialization\"].stop()\n",
    "\n",
    "    def set_initial_conditions(self):\n",
    "        # initialization with constant pressure and temperature\n",
    "        self.physics.set_uniform_initial_conditions(self.reservoir.mesh, uniform_pressure=200,\n",
    "                                                    uniform_temperature=350)\n",
    "\n",
    "    def set_boundary_conditions(self):\n",
    "        # activate wells with rate control for inejctor and producer\n",
    "        for i, w in enumerate(self.reservoir.wells):\n",
    "            if 'INJ' in w.name:\n",
    "                w.control = self.physics.new_rate_water_inj(4000, 300)\n",
    "            else:\n",
    "                w.control = self.physics.new_rate_water_prod(4000)\n",
    "                \n",
    "    def export_pro_vtk(self, file_name='Results'):\n",
    "        # connect to simulation array\n",
    "        X = np.array(self.physics.engine.X, copy=False)\n",
    "        nb = self.reservoir.mesh.n_res_blocks\n",
    "        # compute temperature using pressure and enthalpy (in different units)\n",
    "        temp = _Backward1_T_Ph_vec(X[0:2 * nb:2] / 10, X[1:2 * nb:2] / 18.015)\n",
    "        # define additional arrays to the output\n",
    "        local_cell_data = {'Temperature': temp,\n",
    "                           'Perm': self.reservoir.global_data['permx']}\n",
    "        # use export_vtk defined in the base class (DartsModel)\n",
    "        self.export_vtk(file_name, local_cell_data=local_cell_data)"
   ]
  },
  {
   "cell_type": "markdown",
   "metadata": {},
   "source": [
    "## <font color='Blue'>Now we can run the model:</font>"
   ]
  },
  {
   "cell_type": "code",
   "execution_count": null,
   "metadata": {},
   "outputs": [],
   "source": [
    "m = Model()\n",
    "m.init()\n",
    "\n",
    "# output initial conditions\n",
    "m.export_pro_vtk()\n",
    "m.run_python(1e-3)\n",
    "\n",
    "for t in range(3):\n",
    "    # run and output every 10 years (30 in total)\n",
    "    m.run_python(10*365, restart_dt=365)\n",
    "    m.export_pro_vtk()\n",
    "\n",
    "# print timers and statistics for the run\n",
    "m.print_timers()\n",
    "m.print_stat()"
   ]
  },
  {
   "cell_type": "code",
   "execution_count": null,
   "metadata": {},
   "outputs": [],
   "source": [
    "import pandas as pd\n",
    "# output well information to Excel file\n",
    "td = pd.DataFrame.from_dict(m.physics.engine.time_data)\n",
    "writer = pd.ExcelWriter('well_data.xlsx')\n",
    "td.to_excel(writer, 'Sheet1')\n",
    "writer.save()"
   ]
  },
  {
   "cell_type": "code",
   "execution_count": null,
   "metadata": {},
   "outputs": [],
   "source": [
    "import matplotlib.pyplot as plt\n",
    "# plot temperature at production well and technological limit\n",
    "string = 'PRD : temperature'\n",
    "ax1 = td.plot(x='time', y=[col for col in td.columns if string in col])\n",
    "ax1.plot([0, 1.1e4],[348, 348])\n",
    "ax1.tick_params(labelsize=14)\n",
    "ax1.set_xlabel('Days', fontsize=14)\n",
    "ax1.legend(['temp', 'limit'], fontsize=14)\n",
    "plt.grid()\n",
    "plt.show()"
   ]
  },
  {
   "cell_type": "code",
   "execution_count": null,
   "metadata": {},
   "outputs": [],
   "source": [
    "import pyvista as pv\n",
    "\n",
    "# get vts data\n",
    "mesh = pv.read('vtk_data\\\\results_ts3.vts')\n",
    "\n",
    "# define plotter\n",
    "plotter = pv.Plotter()\n",
    "\n",
    "# set temperature as active scalar\n",
    "mesh.set_active_scalars('Temperature')\n",
    "\n",
    "# add threshold levels\n",
    "thresT = mesh.threshold([300, 348], invert=False)\n",
    "\n",
    "# add outline of mesh\n",
    "outline = mesh.outline()\n",
    "\n",
    "# add elements to plotter\n",
    "plotter.set_background('#52576c')\n",
    "plotter.add_mesh(outline, color='k')\n",
    "plotter.add_mesh(thresT, cmap='coolwarm',\n",
    "                 stitle='Temperature (\\N{DEGREE SIGN}C)')\n",
    "\n",
    "mesh.set_active_scalars('Perm')\n",
    "# threshold for plotting permeability map\n",
    "thresperm = mesh.threshold([1, 7000], scalars='Perm',\n",
    "                           continuous=True)\n",
    "# plot permebility map with opacity\n",
    "plotter.add_mesh(thresperm, scalars='Perm', cmap='viridis',\n",
    "                 opacity=0.25,\n",
    "                 stitle='Permeability (mD)')\n",
    "\n",
    "# add wells as lines\n",
    "ix_coord = (m.iw[0] - 0.5) * m.dx\n",
    "iy_coord = (m.jw[0] - 0.5) * m.dy\n",
    "px_coord = (m.iw[1] - 0.5) * m.dx\n",
    "py_coord = (m.jw[1] - 0.5) * m.dy\n",
    "\n",
    "injline = np.array([[ix_coord, iy_coord, -1700], [ix_coord, iy_coord, -2100]])\n",
    "prodline = np.array([[px_coord, py_coord, -1700], [px_coord, py_coord, -2100]])\n",
    "\n",
    "_ = plotter.add_lines(injline, color='b', name='injector')\n",
    "_ = plotter.add_lines(prodline, color='r', name='producer')\n",
    "_ = plotter.add_axes(line_width=5, labels_off=False)\n",
    "\n",
    "plotter.show()"
   ]
  },
  {
   "cell_type": "markdown",
   "metadata": {},
   "source": [
    "## <font color='Blue'>Tasks in this workshop:</font>\n",
    "\n",
    "1. Load 'PERMX' keyword from file 'perm.in'\n",
    "2. Rerun the simulation, compare lifetime with homegeneous case\n",
    "3. Change location of the wells to cross the channels (instead of along the channels as now)\n",
    "4. Rerun and compare the lifetime, explain why it is different"
   ]
  }
 ],
 "metadata": {
  "kernelspec": {
   "display_name": "Python 3 (ipykernel)",
   "language": "python",
   "name": "python3"
  },
  "language_info": {
   "codemirror_mode": {
    "name": "ipython",
    "version": 3
   },
   "file_extension": ".py",
   "mimetype": "text/x-python",
   "name": "python",
   "nbconvert_exporter": "python",
   "pygments_lexer": "ipython3",
   "version": "3.9.7"
  }
 },
 "nbformat": 4,
 "nbformat_minor": 2
}
