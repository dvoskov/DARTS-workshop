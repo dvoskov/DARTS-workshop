{
 "cells": [
  {
   "cell_type": "markdown",
   "metadata": {},
   "source": [
    "<img style=\"float: left;\" src=\"figures/DARTS_21_Sg_grav.PNG\" width=\"20%\">   \n",
    "\n",
    "# <font color='Red'> $\\;$ Model for chemical benchmark</font>"
   ]
  },
  {
   "cell_type": "markdown",
   "metadata": {},
   "source": [
    "First we are going to install open-darts (only need to run it once):"
   ]
  },
  {
   "cell_type": "code",
   "execution_count": null,
   "metadata": {},
   "outputs": [],
   "source": [
    "pip install open-darts"
   ]
  },
  {
   "cell_type": "markdown",
   "metadata": {},
   "source": [
    "## <font color='blue'>The objectives</font>\n",
    "In this exercise, we run simulation for a chemical benchmark:\n",
    "1. Introduce phsyics for super model with multiple inheritance\n",
    "2. Run model for 1D and 2D reservoir\n",
    "3. Change parameters of the model and observe changes in the results"
   ]
  },
  {
   "cell_type": "markdown",
   "metadata": {},
   "source": [
    "## <font color='Blue'>Introduction to super-engine</font>"
   ]
  },
  {
   "cell_type": "markdown",
   "metadata": {},
   "source": [
    "\n",
    "### Governing equations\n",
    "\n",
    "For the investigated domain with volume $\\Omega$, bounded by surface $\\Gamma$, the mass and energy conservation can be expressed in a uniformly integral way, as\n",
    "\n",
    "\\begin{equation}\n",
    "\\frac{\\partial}{\\partial{t}} \\int_{\\Omega}{M^c}d{\\Omega} + \\int_{\\Gamma}{{\\bf F}^c\\bf{\\cdot}{\\bf{n}}}d{\\Gamma} = \\int_{\\Omega}{Q^c}d{\\Omega}.\n",
    "\\end{equation}\n",
    "\n",
    "Here, $M^c$ denotes the accumulation term for the $c^{\\mathrm{th}}$ component ($c = 1, \\ldots, n_c$, indexing for the mass components, [e.g., water, $\\mathrm{CO_2}$] and $c = n_c + 1$ for the energy quantity); $\\bf{F}_c$ refers to the flux term of the $c^{\\mathrm{th}}$ component; ${\\bf{n}}$ refers to the unit normal pointing outward to the domain boundary;\n",
    "$Q_c$ denotes the source/sink term of the $c^{\\mathrm{th}}$ component.\n",
    "\n",
    "The mass accumulation term collects each component distribution over $n_p$ fluid phases in a summation form, \n",
    "\n",
    "\\begin{equation}\n",
    "    \\begin{aligned}\n",
    "        M^c = \\phi\\sum\\limits^{n_p}_{j=1}x_{cj}\\rho_js_j + (1-\\phi), \\quad c = 1, \\ldots, n_c,\n",
    "    \\end{aligned}\n",
    "\\end{equation}\n",
    "\n",
    "where $\\phi$ is porosity, $s_j$ is phase saturation, $\\rho_j$ is phase density $[\\mathrm{kmol/m^3}]$ and $x_{cj}$ is molar fraction of $c$ component in $j$ phase.\n",
    "\n",
    "The energy accumulation term contains the internal energy of fluid and rock,\n",
    "\n",
    "\\begin{equation}\n",
    "    \\begin{aligned}\n",
    "        M^{n_c+1} = \\phi\\sum\\limits^{n_p}_{j=1}\\rho_js_jU_j + (1 - \\phi)U_r,\n",
    "    \\end{aligned}\n",
    "\\end{equation}\n",
    "\n",
    "where $U_j$ is phase internal energy $[\\mathrm{kJ/kmol}]$ and $U_r$ is rock internal energy $[\\mathrm{kJ/m^3}]$.\n",
    "\n",
    "The rock is assumed compressible and represented by the change of porosity through:\n",
    "\n",
    "\\begin{equation} \n",
    "    \\phi = \\phi_0 \\big(1 + c_r (p - p_\\mathrm{ref}) \\big),\n",
    "\\end{equation}\n",
    "\n",
    "where $\\phi_0$ is the initial porosity, $c_r$ is the rock compressibility [1/bar] and $p_\\mathrm{ref}$ is the reference pressure [bars].\n"
   ]
  },
  {
   "cell_type": "markdown",
   "metadata": {},
   "source": [
    "The mass flux of each component is represented by the summation over $n_p$ fluid phases,\n",
    "\n",
    "\\begin{equation} \n",
    "    \\begin{aligned}\n",
    "        {\\bf F}^c = \\sum\\limits_{j=1}^{n_p}x_{cj}\\rho_j {\\bf u_j} + s_{j}\\rho_{j} \\textbf{J}_{cj}, \\quad c = 1, \\ldots, n_c.\n",
    "    \\end{aligned}\n",
    "\\end{equation}\n",
    "\n",
    "Here the velocity $\\bf{u_j}$ follows the extension of Darcy's law to multiphase flow,\n",
    "\n",
    "\\begin{equation} \n",
    "    \\small\n",
    "    {\\bf u_j} = \\mathbf{K}\\frac{k_{rj}}{\\mu_j}(\\nabla{p_j}-{\\bf \\gamma_j}\\nabla{z}),\n",
    "\\end{equation}\n",
    "\n",
    "where $\\mathbf{K}$ is the permeability tensor $[\\mathrm{mD}]$, $k_{rj}$ is the relative permeability of phase $j$, $\\mu_j$ is the viscosity of phase $j$ $[\\mathrm{mPa\\cdot s}]$, $p_j$ is the pressure of phase $j$ [bars], ${\\bf \\gamma_j}=\\rho_j\\bf{g}$ is the specific weight $[\\mathrm{N/m^3}]$ and $z$ is the depth vector [m].\n",
    "\n",
    "\n",
    "The $\\textbf{J}_{cj}$ is the diffusion flux of component $c$ in phase $j$, which is described by Fick's law as\n",
    "\n",
    "\\begin{equation}\n",
    "\\textbf{J}_{cj} = - \\phi \\textbf{D}_{cj} \\nabla x_{cj},\n",
    "\\label{eq: diffusion equation}\n",
    "\\end{equation}\n",
    "\n",
    "where $\\textbf{D}_{cj}$ is the diffusion coefficient [m$^2$/day].\n",
    " \n",
    "\n",
    "The energy flux includes the thermal convection and conduction terms, \\useshortskip\n",
    "\n",
    "\\begin{equation}\n",
    "    \\begin{aligned}\n",
    "        {\\bf F}^{n_c+1} = \\sum\\limits^{n_p}_{j=1}h_j\\rho_j {\\bf u_j} + \\kappa\\nabla{T},\n",
    "    \\end{aligned}\n",
    "\\end{equation}\n",
    "\n",
    "where $h_j$ is phase enthalpy $[\\mathrm{kJ/kmol}]$ and $\\kappa$ is effective thermal conductivity $[\\mathrm{kJ/m/day/K}]$.\n"
   ]
  },
  {
   "cell_type": "markdown",
   "metadata": {},
   "source": [
    "Finally, the source term in mass conservation equations can be present in the following form\n",
    "\n",
    "\\begin{equation}\n",
    "    \\begin{aligned}\n",
    "        {Q}^{c} = \\sum\\limits_{k=1}^{n_k}v_{ck}r_k, \\quad c = 1, \\ldots, n_c,\n",
    "    \\end{aligned}\n",
    "\\end{equation}\n",
    "\n",
    "where $q_j$ is the phase source/sink term from the well, $v_{ck}$ is the stoichiometric coefficient associated with chemical reaction $k$ for the component $c$ and $r_{k}$ is the rate for the reaction. %Here we assume that equilibrium reactions are absent. \n",
    "Similarly, the source term in the energy balance equation can be written as\n",
    "\n",
    "\\begin{equation} \n",
    "    \\begin{aligned}\n",
    "        {Q}^{n_c+1} = \\sum\\limits_{k=1}^{n_k}v_{ek}r_{ek}.\n",
    "    \\end{aligned}\n",
    "\\end{equation}\n",
    "\n",
    "Here $v_{ek}$ is the stoichiometric coefficient associated with kinetic reaction $k$ for the energy and $r_{ek}$ is the energy rate for kinetic reaction.\n",
    "\n",
    "\n",
    "The nonlinear equations are discretized with the finite volume method using the multi-point flux approximation on general unstructured mesh in space and with the backward Euler approximation in time. For the $i^{\\mathrm{th}}$ reservoir block, the governing equation in discretized residual form reads:\n",
    "\n",
    "\\begin{equation} \n",
    "    \\begin{aligned}\n",
    "        R^c_i = V_i \\Big(M^{c}_i(\\omega_i) - M^{c}_i(\\omega^n_{i}) \\Big) - \n",
    "        \\Delta{t} \\Big(\\sum_l{A_{l}F^{c}_{l}(\\omega)} + V_iQ^{c}_{i}(\\omega) \\Big) = 0, \\quad c = 1, \\ldots, n_c+1.\n",
    "    \\end{aligned}\n",
    "\\end{equation}\n",
    "\n",
    "Here $V_i$ is the volume of the $i^{th}$ grid block, $\\omega_{i}$ refers to state variables at the current time step, $\\omega^{n}_i$ refers to state variables at previous time step, $A_l$ is the contact area between neighboring grids."
   ]
  },
  {
   "cell_type": "markdown",
   "metadata": {},
   "source": [
    "### Conservation of mass and energy in operator form \n",
    "\n",
    "Pressure, temperature and overall composition are taken as the unified state variables in a given control volume in general-purpose thermal-compositional simulation. Upstream weighting of the physical state is used to determine the flux-related fluid properties determined at the interface $l$. The discretized mass conservation equation in operator form for girdblock (here we omit $i$) reads:\n",
    "\n",
    "\\begin{equation}\n",
    "V\\phi_0[ \\alpha_c (\\omega) -\\alpha_c( \\omega_n)]-\\Delta t\\sum_{l\\in L(i)}\\sum_{j=1}^{n_p}[\\Gamma^l\\beta_{cj}^l(\\omega^u)\\Delta\\psi_j^l + \\Gamma_d^l\\gamma_{j}^l(\\omega)\\Delta \\chi_{cj}]+\\Delta t V \\delta_c(\\omega)=0   \\label{eq:operator format}.\n",
    "\\end{equation}\n",
    "\n",
    "where $V$ is the control volume, $\\omega_n$ is the physical state of block $i$ at the previous timestep, $\\omega$ is the physical state of block $i$ at the new timestep, $\\omega^{u}$ is the physical state of upstream block, $\\Gamma^l$ and $\\Gamma_d^l$ are the fluid and diffusive transmissibilities respectively and $L(i)$ is a set of interfaces for gridblock $i$.\n",
    "\n",
    "\n",
    "Here we defined the following state-dependent operators,\n",
    "\n",
    "\\begin{eqnarray}\n",
    "\\alpha_{cf}\\left(\\omega\\right) &=& \\Big(1+c_r(p-p_{ref})\\Big)\\sum_{j=1}^{n_p}x_{cj}\\rho_js_j \\label{eq:alpha}, \\ c = 1,\\ldots,n_c;\\\\\n",
    "%\\alpha_{cr}\\left(\\omega\\right) &=& 0, \\ c = 1,\\ldots,n_c;\\\\\n",
    "\\beta_{cj}(\\omega) &=& x_{cj}\\rho_jk_{rj}/\\mu_{j} \\label{eq:belta}, \\ c = 1,\\ldots,n_c, \\ j = 1,\\ldots,n_p;\\\\  \n",
    "\\gamma_{j}(\\omega) &=& \\Big(1+c_r(p-p_{ref})\\Big) s_j, \\ j = 1,\\ldots,n_p;\\\\  \n",
    "\\chi_{cj}(\\omega) &=& D_{cj} \\rho_j x_{cj}, \\ c = 1,\\ldots,n_c, \\ j = 1,\\ldots,n_p; \\\\\n",
    "\\delta_{c}(\\omega) &=& \\sum\\limits_{j=1}^{n_p}v_{cj}r_j(\\omega),\\ c = 1,\\ldots,n_c.\n",
    "\\end{eqnarray}\n",
    "\n",
    "The phase-potential-upwinding (PPU) strategy for OBL parametrization is applied in DARTS to model the gravity and capillary effect. The potential difference of phase $j$ on the interface $l$ between block $1$ and $2$ can be written as:\n",
    "\n",
    "\\begin{equation}\n",
    "\\Delta \\psi^l_{j} = p_1-p^c_{j}(\\omega_1) - (p_2-p^c_{j}(\\omega_2))-\\frac{\\rho_j(\\omega_1)+\\rho_j(\\omega_2)}{2}g(z_2-z_1), \\label{eq:pressure difference}\n",
    "\\end{equation}\n",
    "\n",
    "where $p^c_{j}$ is the capillary pressure. \n"
   ]
  },
  {
   "cell_type": "markdown",
   "metadata": {},
   "source": [
    "\n",
    "\n",
    "The discretized energy conservation equation in operator form can be written as:\n",
    "\n",
    "\\begin{equation}\n",
    "\\begin{aligned}\n",
    "V \\phi_0 [\\alpha_{ef}(\\omega) &- \\alpha_{ef}(\\omega_n) ] - \n",
    "\\Delta{t}\\sum_{l\\in L(i)} \\sum_{j=1}^{n_p}[\\Gamma^l\\beta_{ej}^l(\\omega^{u})\\Delta\\psi_{j}^l\n",
    "+ \\Gamma_d^l\\gamma_{j}(\\omega) \\Delta \\chi_{ej}]\n",
    "+ \\Delta t V \\delta_e(\\omega) \\\\\n",
    "&+ (1-\\phi_0)VU_r [\\alpha_{er}(\\omega) - \\alpha_{er}(\\omega_n)] - \\Delta{t}\\sum\\limits_l{ (1-\\phi_0)\\Gamma_d^l\\kappa_r\\alpha_{er}(\\omega) \\Delta \\chi_{er}} = 0,\n",
    "\\end{aligned}\n",
    "\\end{equation}\n",
    "\n",
    "where:\n",
    "\n",
    "\\begin{eqnarray} \n",
    "\\alpha_{ef}(\\omega)&=& \\Big(1+c_r(p-p_{ref}) \\Big)\\sum\\limits^{n_p}_{j=1}{\\rho_js_jU_j}; \n",
    "\\label{eq: energy_acc_flux_1} \\\\\n",
    "\\beta_{ej}(\\omega)&=&h_j\\rho_j{k_{rj}}/{\\mu_j}, \\ j = 1,\\ldots, n_p;\n",
    "\\label{eq: energy_acc_flux_5}\\\\\n",
    "\\chi_{ej}(\\omega) &=& \\kappa_j T_j, \\ j = 1,\\ldots,n_p;\n",
    "\\label{eq: energy_acc_flux_3} \\\\\n",
    "\\delta_{e}(\\omega) &=& \\sum\\limits_{j=1}^{n_j}v_{ej}r_{ej}(\\omega)\n",
    "\\label{eq: energy_acc_flux_6}\n",
    "\\end{eqnarray}\n",
    "\n",
    "\n",
    "In addition, for accounting the energy of rock, three additional operators should be defined:\n",
    "\n",
    "\\begin{equation}\n",
    "\\alpha_{er}(\\omega)= \\frac{1}{1+c_r(p-p_{ref})}, \\ \n",
    "\\label{eq: energy_acc_rock_2} \n",
    "\\chi_{er}(\\omega) = T_r.\n",
    "\\end{equation}\n",
    "\n",
    "$\\alpha_{eri}$ and $\\alpha_{erc}$ represent the rock internal energy and rock conduction, respectively. $U_r$ is a state-dependent parameter, thus these two rock energy terms are treated separately.\n"
   ]
  },
  {
   "cell_type": "markdown",
   "metadata": {},
   "source": [
    "## <font color='Blue'>Schematics of 1D model</font>\n",
    "\n",
    "<img style=\"float: left;\" src=\"figures/chem_bench_1D.png\" width=\"80%\">"
   ]
  },
  {
   "cell_type": "markdown",
   "metadata": {},
   "source": [
    "The first model is a setup with an injection well in the first block and a production well in the last block, no flow boundary conditions from left and right (i.e., $\\frac{\\partial p}{\\partial x}|_{x=0} = \\frac{\\partial p}{\\partial x}|_{x=L} = 0 $).\n",
    "\n",
    "We use a simplified chemical relationship for this case. It consists of a single chemical reaction (i.e., we cannot reduce the global system of nonlinear equation using the element reduction). The system consists of the following components: {$H_2O$, ${CO_2}$, ${Ca^{+2}}$, ${CO_3^{-2}}$, ${CaCO_3}$} and the kinetic reaction equation consists of\n",
    "\n",
    "\\begin{align}\n",
    "\\label{eq:calcdiss}\n",
    "    {CaCO_3 <=> Ca^{+2} + CO_3^{-2}}.\n",
    "\\end{align}\n",
    "\n",
    "Here we assume that the chemical reaction is kinetic. The kinetic rate is written as\n",
    "\n",
    "\\begin{equation}\\label{kinetic_react}\n",
    "    r_k = A_s K_k \\left(1 - \\frac{Q}{K_{sp}}\\right) %x_{CO_2, w}\n",
    "\\end{equation}\n",
    "\n",
    "where $A_s$ is the reactive surface area, which is a linear function of the solid saturation ($A_s = A_0 \\hat{s}_s =(1-\\phi_0)\\hat{s}_s)$, $K_k$ is the kinetic reaction constant, $Q$ is the activity product and $K_{sp}$  is the equilibrium constant."
   ]
  },
  {
   "cell_type": "markdown",
   "metadata": {},
   "source": [
    "## <font color='Blue'>Super-engine physics</font>\n",
    "\n",
    "Here we introduce custom [Model](https://gitlab.com/open-darts/open-darts-workshop/-/blob/main/model_chem_bench.py) class based on [DartsModel](https://gitlab.com/open-darts/open-darts/-/blob/development/darts-package/darts/models/darts_model.py) which is using [SuperPhysics](https://gitlab.com/open-darts/open-darts/-/tree/development/darts-package/darts/models/physics_sup). "
   ]
  },
  {
   "cell_type": "code",
   "execution_count": null,
   "metadata": {},
   "outputs": [],
   "source": [
    "from model_chem_bench import Model\n",
    "from darts.engines import value_vector, redirect_darts_output\n",
    "\n",
    "redirect_darts_output('run_chemical_1D.log')\n",
    "n = Model(grid_1D=True)\n",
    "n.init()\n",
    "n.params.max_ts = 1e+0\n",
    "\n",
    "n.run_python(1000)\n",
    "n.save_restart_data()\n",
    "n.print_timers()\n",
    "n.print_stat()\n"
   ]
  },
  {
   "cell_type": "code",
   "execution_count": null,
   "metadata": {},
   "outputs": [],
   "source": [
    "n.print_and_plot_1D()"
   ]
  },
  {
   "cell_type": "markdown",
   "metadata": {},
   "source": [
    "## <font color='Blue'>Schematics of 2D model</font>\n",
    "\n",
    "<img style=\"float: left;\" src=\"figures/chem_bench_2D.PNG\" width=\"80%\">"
   ]
  },
  {
   "cell_type": "markdown",
   "metadata": {},
   "source": [
    "The second test case consists of a two-dimensional heterogeneous domain. In the model, a zone of high porosity (and permeability) is embedded within a lower porosity (and permeability) zone. The domain extends for 10 [m] in the $y$-direction and all the other measures are mentioned in the figure above. The boundary conditions are constant injection rate on the left with bottom half of the domain pure ${CO_2}$, top half pure ${H_2O}$. The constant pressure is defined on the right boundary (outflow) with no-flow conditions on top and bottom. "
   ]
  },
  {
   "cell_type": "code",
   "execution_count": null,
   "metadata": {},
   "outputs": [],
   "source": []
  },
  {
   "cell_type": "code",
   "execution_count": null,
   "metadata": {},
   "outputs": [],
   "source": []
  }
 ],
 "metadata": {
  "kernelspec": {
   "display_name": "Python 3 (ipykernel)",
   "language": "python",
   "name": "python3"
  },
  "language_info": {
   "codemirror_mode": {
    "name": "ipython",
    "version": 3
   },
   "file_extension": ".py",
   "mimetype": "text/x-python",
   "name": "python",
   "nbconvert_exporter": "python",
   "pygments_lexer": "ipython3",
   "version": "3.9.12"
  }
 },
 "nbformat": 4,
 "nbformat_minor": 2
}
